{
  "nbformat": 4,
  "nbformat_minor": 0,
  "metadata": {
    "colab": {
      "provenance": [],
      "authorship_tag": "ABX9TyOkUSzQQRavcE7XUMhTmbXq",
      "include_colab_link": true
    },
    "kernelspec": {
      "name": "python3",
      "display_name": "Python 3"
    },
    "language_info": {
      "name": "python"
    }
  },
  "cells": [
    {
      "cell_type": "markdown",
      "metadata": {
        "id": "view-in-github",
        "colab_type": "text"
      },
      "source": [
        "<a href=\"https://colab.research.google.com/github/Chingfa-Wu/Introduction-to-Computers/blob/main/tri.ipynb\" target=\"_parent\"><img src=\"https://colab.research.google.com/assets/colab-badge.svg\" alt=\"Open In Colab\"/></a>"
      ]
    },
    {
      "cell_type": "code",
      "execution_count": 1,
      "metadata": {
        "colab": {
          "base_uri": "https://localhost:8080/"
        },
        "id": "hre8t6bvesTD",
        "outputId": "3a76af60-c5c1-43fa-f658-77d9aa8d431a"
      },
      "outputs": [
        {
          "output_type": "stream",
          "name": "stdout",
          "text": [
            "10\n",
            "                 [1]                  \n",
            "                [1, 1]                \n",
            "              [1, 2, 1]               \n",
            "             [1, 3, 3, 1]             \n",
            "           [1, 4, 6, 4, 1]            \n",
            "         [1, 5, 10, 10, 5, 1]         \n",
            "       [1, 6, 15, 20, 15, 6, 1]       \n",
            "     [1, 7, 21, 35, 35, 21, 7, 1]     \n",
            "   [1, 8, 28, 56, 70, 56, 28, 8, 1]   \n",
            "[1, 9, 36, 84, 126, 126, 84, 36, 9, 1]\n"
          ]
        }
      ],
      "source": [
        "def tri(n):\n",
        "    l = []\n",
        "    for i in range(n):\n",
        "        if i == 0:\n",
        "            l.append([1])\n",
        "        elif i == 1:\n",
        "            l.append([1,1])\n",
        "        else:\n",
        "            y = []\n",
        "            for j in range(i+1):\n",
        "                if j==0 or j==i:\n",
        "                    y.append(1)\n",
        "                else:\n",
        "                    y.append(l[i-1][j]+l[i-1][j-1])\n",
        "            l.append(y)\n",
        "    return l\n",
        "\n",
        "n = int(input())\n",
        "x = tri(n)\n",
        "\n",
        "ln = len(str(x[-1]))\n",
        "for i in range(len(x)):\n",
        "    s = str(x[i])\n",
        "    a = '{:^'+str(ln)+'}'\n",
        "    print(a.format(s))"
      ]
    },
    {
      "cell_type": "code",
      "source": [
        "def tri(n):\n",
        "    l = []\n",
        "    for i in range(n):\n",
        "        if i == 0:\n",
        "            l.append([1])\n",
        "        elif i == 1:\n",
        "            l.append([1,1])\n",
        "        else:\n",
        "            y = []\n",
        "            for j in range(i+1):\n",
        "                if j==0 or j==i:\n",
        "                    y.append(1)\n",
        "                else:\n",
        "                    y.append(l[i-1][j]+l[i-1][j-1])\n",
        "            l.append(y)\n",
        "    return l\n",
        "\n",
        "n = 10\n",
        "x = tri(n)\n",
        "ls = [23,22,20,19,17,15,13,11,9,6]\n",
        "ln = len(str(x[-1]))\n",
        "for i in range(len(x)):\n",
        "    print(' '*ls[i],end='')\n",
        "    print(x[i])"
      ],
      "metadata": {
        "colab": {
          "base_uri": "https://localhost:8080/"
        },
        "id": "6RYkQttDeyhO",
        "outputId": "6fb8e564-abd5-459f-a397-6e65d0281cf1"
      },
      "execution_count": 2,
      "outputs": [
        {
          "output_type": "stream",
          "name": "stdout",
          "text": [
            "                       [1]\n",
            "                      [1, 1]\n",
            "                    [1, 2, 1]\n",
            "                   [1, 3, 3, 1]\n",
            "                 [1, 4, 6, 4, 1]\n",
            "               [1, 5, 10, 10, 5, 1]\n",
            "             [1, 6, 15, 20, 15, 6, 1]\n",
            "           [1, 7, 21, 35, 35, 21, 7, 1]\n",
            "         [1, 8, 28, 56, 70, 56, 28, 8, 1]\n",
            "      [1, 9, 36, 84, 126, 126, 84, 36, 9, 1]\n"
          ]
        }
      ]
    }
  ]
}