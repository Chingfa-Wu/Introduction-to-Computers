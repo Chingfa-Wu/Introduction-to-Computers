{
  "nbformat": 4,
  "nbformat_minor": 0,
  "metadata": {
    "colab": {
      "provenance": [],
      "authorship_tag": "ABX9TyPYhl1cc2fOSx4xyUnpXOXD",
      "include_colab_link": true
    },
    "kernelspec": {
      "name": "python3",
      "display_name": "Python 3"
    },
    "language_info": {
      "name": "python"
    }
  },
  "cells": [
    {
      "cell_type": "markdown",
      "metadata": {
        "id": "view-in-github",
        "colab_type": "text"
      },
      "source": [
        "<a href=\"https://colab.research.google.com/github/Chingfa-Wu/Introduction-to-Computers/blob/main/0508.ipynb\" target=\"_parent\"><img src=\"https://colab.research.google.com/assets/colab-badge.svg\" alt=\"Open In Colab\"/></a>"
      ]
    },
    {
      "cell_type": "code",
      "execution_count": null,
      "metadata": {
        "colab": {
          "base_uri": "https://localhost:8080/"
        },
        "id": "QrBQDPlwPj5A",
        "outputId": "3ad455b9-f91a-4683-9b39-0926affdc5ba"
      },
      "outputs": [
        {
          "output_type": "stream",
          "name": "stdout",
          "text": [
            "60\n",
            "你及格了\n"
          ]
        }
      ],
      "source": [
        "score = int(input())\n",
        "if score >= 60:\n",
        "  print(\"你及格了\")\n",
        "else:\n",
        "  print(\"不及格\")\n"
      ]
    },
    {
      "cell_type": "code",
      "source": [
        "pwd = int(input(\"請輸入密碼:\"))\n",
        "if pwd == 1234:\n",
        "  print(\"密碼正確\")\n",
        "else:\n",
        "  print('密碼錯誤')"
      ],
      "metadata": {
        "colab": {
          "base_uri": "https://localhost:8080/"
        },
        "id": "xuBtW9r1TEKz",
        "outputId": "1e26c4c8-e1c7-4296-ba6b-ab5b8abb5e63"
      },
      "execution_count": null,
      "outputs": [
        {
          "output_type": "stream",
          "name": "stdout",
          "text": [
            "請輸入密碼:1234\n",
            "密碼正確\n"
          ]
        }
      ]
    },
    {
      "cell_type": "code",
      "source": [
        "ans = input('今天會下雨嗎?')\n",
        "if ans=='y' or ans=='Y':\n",
        "  print('出門記得帶傘!')\n",
        "else:\n",
        "  print('不用帶傘')"
      ],
      "metadata": {
        "colab": {
          "base_uri": "https://localhost:8080/"
        },
        "id": "hhHSWkSOWyE7",
        "outputId": "6c75c49e-039f-475c-ce46-78aefdf634b0"
      },
      "execution_count": null,
      "outputs": [
        {
          "output_type": "stream",
          "name": "stdout",
          "text": [
            "今天會下雨嗎Y\n",
            "出門記得帶傘\n"
          ]
        }
      ]
    },
    {
      "cell_type": "code",
      "source": [
        "num = int(input(\"請輸入數字:\"))\n",
        "if num%2 == 0:\n",
        "  print(f'{num}為偶數!')\n",
        "else:\n",
        "  print(f'{num}為奇數!')"
      ],
      "metadata": {
        "colab": {
          "base_uri": "https://localhost:8080/"
        },
        "id": "xMe91SQiXS7T",
        "outputId": "45e16e5f-e5ef-4e63-90ac-9f04f15838f9"
      },
      "execution_count": null,
      "outputs": [
        {
          "output_type": "stream",
          "name": "stdout",
          "text": [
            "請輸入數字:51\n",
            "51為奇數!\n"
          ]
        }
      ]
    }
  ]
}