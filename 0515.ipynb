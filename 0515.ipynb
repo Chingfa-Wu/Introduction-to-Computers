{
  "nbformat": 4,
  "nbformat_minor": 0,
  "metadata": {
    "colab": {
      "provenance": [],
      "authorship_tag": "ABX9TyNdqnkh3avhDX6yR3Hhg3P+",
      "include_colab_link": true
    },
    "kernelspec": {
      "name": "python3",
      "display_name": "Python 3"
    },
    "language_info": {
      "name": "python"
    }
  },
  "cells": [
    {
      "cell_type": "markdown",
      "metadata": {
        "id": "view-in-github",
        "colab_type": "text"
      },
      "source": [
        "<a href=\"https://colab.research.google.com/github/Chingfa-Wu/Introduction-to-Computers/blob/main/0515.ipynb\" target=\"_parent\"><img src=\"https://colab.research.google.com/assets/colab-badge.svg\" alt=\"Open In Colab\"/></a>"
      ]
    },
    {
      "cell_type": "code",
      "execution_count": 7,
      "metadata": {
        "colab": {
          "base_uri": "https://localhost:8080/"
        },
        "id": "vRh9n-fVSt_K",
        "outputId": "a5d6ee22-32c1-41af-ef3e-5c2bc6b5a6fb"
      },
      "outputs": [
        {
          "output_type": "stream",
          "name": "stdout",
          "text": [
            "今天會下雨嗎?B\n",
            "請重新輸入\n"
          ]
        }
      ],
      "source": [
        "ans = input('今天會下雨嗎?')\n",
        "if ans=='y' or ans=='Y':\n",
        "  print('出門記得帶傘!')\n",
        "elif ans=='n' or ans=='N':\n",
        "  print('出門不用帶傘!')\n",
        "else:\n",
        "  print('請重新輸入')"
      ]
    },
    {
      "cell_type": "code",
      "source": [
        "t = float(input(\"請輸入體溫: \"))\n",
        "if t>=37.5:\n",
        "  print(\"體溫過高\")\n",
        "elif t>=37:\n",
        "  print(\"體溫略高\")\n",
        "elif t>=34:\n",
        "  print(\"體溫正常\")\n",
        "else:\n",
        "  print(\"體溫異常，請重新測量\")"
      ],
      "metadata": {
        "colab": {
          "base_uri": "https://localhost:8080/"
        },
        "id": "IfksAcVLTqQK",
        "outputId": "41b763e0-44c1-4bb4-cc0e-eef532bc5766"
      },
      "execution_count": 11,
      "outputs": [
        {
          "output_type": "stream",
          "name": "stdout",
          "text": [
            "請輸入體溫:37.4\n",
            "體溫略高\n"
          ]
        }
      ]
    },
    {
      "cell_type": "code",
      "source": [
        "i = int(input(\"請輸入成績: \"))\n",
        "if i>=90:\n",
        "  print(\"A\")\n",
        "elif i>=80:\n",
        "  print(\"B\")\n",
        "elif i>=70:\n",
        "  print(\"C\")\n",
        "elif i>=60:\n",
        "  print(\"D\")\n",
        "else:\n",
        "  print(\"E\")"
      ],
      "metadata": {
        "colab": {
          "base_uri": "https://localhost:8080/"
        },
        "id": "yPQSNWlMUvvO",
        "outputId": "f9ed1db5-f0cb-4de6-82ca-d70dd3e31c9c"
      },
      "execution_count": 12,
      "outputs": [
        {
          "output_type": "stream",
          "name": "stdout",
          "text": [
            "請輸入成績:95\n",
            "A\n"
          ]
        }
      ]
    },
    {
      "cell_type": "code",
      "source": [
        "i = int(input(\"請輸入月份: \"))\n",
        "if i in [3,4,5]:\n",
        "  print(f'{i}月是春天!')\n",
        "elif i in [6,7,8]:\n",
        "  print(f'{i}月是夏天!')\n",
        "elif i in [9,10,11]:\n",
        "  print(f'{i}月是秋天!')\n",
        "elif i in [12,1,2]:\n",
        "  print(f'{i}月是冬天!')\n",
        "else:\n",
        "  print('月份不在範圍內!')"
      ],
      "metadata": {
        "colab": {
          "base_uri": "https://localhost:8080/"
        },
        "id": "Uu4C7BHTVZki",
        "outputId": "cb8e23d6-c655-4b47-f365-36195e0f0505"
      },
      "execution_count": 13,
      "outputs": [
        {
          "output_type": "stream",
          "name": "stdout",
          "text": [
            "請輸入月份:6\n",
            "6月是夏天!\n"
          ]
        }
      ]
    },
    {
      "cell_type": "code",
      "source": [
        "i = int(input(\"請輸入今年收入淨額: \"))\n",
        "if i >=2000000:\n",
        "  print(f\"付稅金額: {i*0.3}元\")\n",
        "elif i >=1000000:\n",
        "  print(f\"付稅金額: {i*0.21}元\")\n",
        "elif i >=600000:\n",
        "  print(f\"付稅金額: {i*0.13}元\")\n",
        "elif i >=300000:\n",
        "  print(f\"付稅金額: {i*0.06}元\")\n",
        "else:\n",
        "  print(f\"付稅金額: 0元\")"
      ],
      "metadata": {
        "colab": {
          "base_uri": "https://localhost:8080/"
        },
        "id": "frkXhwRqWYIH",
        "outputId": "4a56ad7e-36bf-446f-853c-a63070d0dc20"
      },
      "execution_count": 14,
      "outputs": [
        {
          "output_type": "stream",
          "name": "stdout",
          "text": [
            "請輸入今年收入淨額: 2000000\n",
            "付稅金額: 600000.0元\n"
          ]
        }
      ]
    }
  ]
}